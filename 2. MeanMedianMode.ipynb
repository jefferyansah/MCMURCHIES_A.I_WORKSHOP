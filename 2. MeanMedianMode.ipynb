{
 "cells": [
  {
   "cell_type": "markdown",
   "metadata": {},
   "source": [
    "# Mean, Median, Mode, and introducing NumPy"
   ]
  },
  {
   "cell_type": "markdown",
   "metadata": {},
   "source": [
    "## Mean vs. Median"
   ]
  },
  {
   "cell_type": "markdown",
   "metadata": {},
   "source": [
    "Let's create some fake income data, centered around 27,000 with a normal distribution and standard deviation of 15,000, with 10,000 data points. (We'll discuss those terms more later, if you're not familiar with them.)\n",
    "\n",
    "Then, compute the mean (average) - it should be close to 27,000:"
   ]
  },
  {
   "cell_type": "code",
   "execution_count": 1,
   "metadata": {},
   "outputs": [
    {
     "data": {
      "text/plain": [
       "27014.857166156435"
      ]
     },
     "execution_count": 1,
     "metadata": {},
     "output_type": "execute_result"
    }
   ],
   "source": [
    "import numpy as np\n",
    "\n",
    "\n",
    "#CENTER AROUND 27000\n",
    "# STANDARD DEVIATION 15000\n",
    "# NUMBER OF VALUES 10000\n",
    "\n",
    "incomes = np.random.normal(27000, 15000, 10000)\n",
    "np.mean(incomes)"
   ]
  },
  {
   "cell_type": "markdown",
   "metadata": {},
   "source": [
    "We can segment the income data into 50 buckets, and plot it as a histogram:"
   ]
  },
  {
   "cell_type": "code",
   "execution_count": 2,
   "metadata": {},
   "outputs": [
    {
     "data": {
      "image/png": "[encoded data removed]",
      "text/plain": [
       "<Figure size 432x288 with 1 Axes>"
      ]
     },
     "metadata": {
      "needs_background": "light"
     },
     "output_type": "display_data"
    }
   ],
   "source": [
    "%matplotlib inline\n",
    "import matplotlib.pyplot as plt\n",
    "# DICING INTO 50 BUCKETS\n",
    "# Y = FREQUENCY\n",
    "# X = BUCKET\n",
    "# 2000 BUCKET OCCURS AROUND ABOUT 600 DATAPOINTS\n",
    "plt.hist(incomes, 50)\n",
    "plt.show()"
   ]
  },
  {
   "cell_type": "markdown",
   "metadata": {},
   "source": [
    "Now compute the median - since we have a nice, even distribution it too should be close to 27,000:"
   ]
  },
  {
   "cell_type": "code",
   "execution_count": 3,
   "metadata": {},
   "outputs": [
    {
     "data": {
      "text/plain": [
       "27007.85463198481"
      ]
     },
     "execution_count": 3,
     "metadata": {},
     "output_type": "execute_result"
    }
   ],
   "source": [
    "np.median(incomes)"
   ]
  },
  {
   "cell_type": "markdown",
   "metadata": {},
   "source": [
    "Now we'll add Donald Trump into the mix. Darn income inequality!"
   ]
  },
  {
   "cell_type": "code",
   "execution_count": 4,
   "metadata": {},
   "outputs": [],
   "source": [
    "incomes = np.append(incomes, [1000000000])"
   ]
  },
  {
   "cell_type": "markdown",
   "metadata": {},
   "source": [
    "The median won't change much, but the mean does:"
   ]
  },
  {
   "cell_type": "code",
   "execution_count": 5,
   "metadata": {},
   "outputs": [
    {
     "data": {
      "text/plain": [
       "27008.33778145871"
      ]
     },
     "execution_count": 5,
     "metadata": {},
     "output_type": "execute_result"
    }
   ],
   "source": [
    "np.median(incomes)"
   ]
  },
  {
   "cell_type": "code",
   "execution_count": 6,
   "metadata": {},
   "outputs": [
    {
     "data": {
      "text/plain": [
       "127002.15695046139"
      ]
     },
     "execution_count": 6,
     "metadata": {},
     "output_type": "execute_result"
    }
   ],
   "source": [
    "np.mean(incomes)"
   ]
  },
  {
   "cell_type": "markdown",
   "metadata": {},
   "source": [
    "## Mode"
   ]
  },
  {
   "cell_type": "markdown",
   "metadata": {},
   "source": [
    "Next, let's generate some fake age data for 500 people:"
   ]
  },
  {
   "cell_type": "code",
   "execution_count": 17,
   "metadata": {},
   "outputs": [
    {
     "data": {
      "text/plain": [
       "array([20, 26, 50, 79, 23, 43, 79, 24, 52, 74, 65, 63, 74, 66, 32, 86, 30,\n",
       "       22, 86, 87, 61, 31, 76, 71, 85, 25, 54, 49, 28, 52, 79, 68, 32, 37,\n",
       "       72, 77, 23, 38, 19, 34, 50, 74, 46, 37, 57, 62, 47, 88, 61, 58, 63,\n",
       "       82, 49, 37, 59, 31, 85, 88, 65, 33, 22, 20, 70, 76, 32, 42, 44, 43,\n",
       "       42, 34, 38, 39, 61, 71, 78, 37, 81, 42, 22, 64, 34, 67, 61, 72, 65,\n",
       "       88, 70, 77, 83, 78, 77, 64, 41, 71, 84, 83, 78, 49, 33, 89, 41, 20,\n",
       "       26, 58, 41, 48, 38, 59, 72, 69, 42, 61, 80, 60, 54, 53, 23, 51, 39,\n",
       "       62, 69, 67, 73, 72, 38, 47, 21, 67, 19, 62, 50, 56, 48, 38, 35, 47,\n",
       "       86, 22, 34, 75, 28, 67, 72, 76, 29, 42, 57, 77, 38, 30, 73, 65, 35,\n",
       "       31, 79, 61, 59, 34, 82, 53, 33, 81, 29, 69, 52, 64, 32, 40, 35, 76,\n",
       "       19, 63, 76, 67, 42, 83, 36, 72, 64, 51, 56, 63, 23, 87, 24, 19, 30,\n",
       "       60, 72, 82, 76, 56, 40, 45, 28, 75, 58, 45, 77, 55, 40, 70, 76, 26,\n",
       "       43, 64, 26, 57, 40, 52, 31, 30, 38, 25, 22, 78, 34, 50, 87, 40, 24,\n",
       "       65, 24, 63, 36, 67, 51, 21, 28, 32, 39, 42, 30, 81, 18, 43, 66, 28,\n",
       "       31, 75, 57, 66, 46, 72, 29, 28, 58, 22, 20, 30, 59, 54, 63, 47, 56,\n",
       "       40, 55, 27, 68, 86, 44, 51, 26, 21, 80, 46, 28, 30, 54, 24, 69, 22,\n",
       "       58, 22, 55, 64, 27, 67, 22, 49, 37, 21, 41, 40, 32, 48, 52, 89, 28,\n",
       "       65, 71, 29, 20, 62, 78, 27, 89, 19, 37, 79, 87, 77, 41, 69, 28, 21,\n",
       "       43, 40, 35, 36, 76, 47, 57, 23, 32, 59, 54, 78, 58, 33, 35, 84, 70,\n",
       "       49, 68, 59, 50, 60, 45, 25, 46, 44, 63, 25, 41, 37, 57, 46, 84, 18,\n",
       "       52, 33, 88, 24, 53, 86, 75, 53, 65, 31, 66, 50, 26, 55, 48, 81, 66,\n",
       "       78, 50, 63, 85, 57, 61, 47, 54, 58, 35, 25, 76, 33, 30, 84, 37, 86,\n",
       "       29, 87, 41, 22, 40, 33, 81, 77, 28, 19, 64, 23, 78, 76, 87, 69, 51,\n",
       "       67, 83, 78, 82, 77, 85, 86, 44, 19, 72, 31, 28, 33, 25, 55, 29, 52,\n",
       "       85, 61, 19, 53, 89, 80, 68, 88, 20, 31, 70, 84, 28, 61, 81, 80, 82,\n",
       "       61, 53, 29, 60, 55, 54, 40, 60, 56, 22, 50, 78, 33, 40, 60, 57, 61,\n",
       "       85, 23, 43, 19, 75, 28, 52, 81, 80, 52, 79, 84, 89, 54, 38, 68, 40,\n",
       "       88, 24, 69, 72, 42, 51, 26, 74, 83, 57, 68, 32, 37, 71, 32, 32, 21,\n",
       "       84, 83, 62, 24, 64, 79, 27, 44, 29, 60, 85, 23, 56, 51, 28, 21, 18,\n",
       "       52, 33, 29, 58, 33, 69, 87])"
      ]
     },
     "execution_count": 17,
     "metadata": {},
     "output_type": "execute_result"
    }
   ],
   "source": [
    "ages = np.random.randint(18, high=90, size=500) # from 18 to 90\n",
    "ages"
   ]
  },
  {
   "cell_type": "code",
   "execution_count": 18,
   "metadata": {},
   "outputs": [
    {
     "data": {
      "text/plain": [
       "ModeResult(mode=array([28]), count=array([14]))"
      ]
     },
     "execution_count": 18,
     "metadata": {},
     "output_type": "execute_result"
    }
   ],
   "source": [
    "from scipy import stats\n",
    "stats.mode(ages)"
   ]
  },
  {
   "cell_type": "code",
   "execution_count": null,
   "metadata": {},
   "outputs": [],
   "source": []
  }
 ],
 "metadata": {
  "kernelspec": {
   "display_name": "Python 3",
   "language": "python",
   "name": "python3"
  },
  "language_info": {
   "codemirror_mode": {
    "name": "ipython",
    "version": 3
   },
   "file_extension": ".py",
   "mimetype": "text/x-python",
   "name": "python",
   "nbconvert_exporter": "python",
   "pygments_lexer": "ipython3",
   "version": "3.7.3"
  }
 },
 "nbformat": 4,
 "nbformat_minor": 1
}
